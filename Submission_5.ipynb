{
 "metadata": {
  "name": "",
  "signature": "sha256:606c89e5b48f900df5cd049ca80a725ff72e1e6ad5fc5ea389e5fe5cf5b3d5eb"
 },
 "nbformat": 3,
 "nbformat_minor": 0,
 "worksheets": [
  {
   "cells": [
    {
     "cell_type": "code",
     "collapsed": false,
     "input": [
      "%matplotlib inline\n",
      "\n",
      "import numpy as np\n",
      "import pandas as pd\n",
      "import matplotlib.pyplot as plt\n",
      "import seaborn as sns\n",
      "from sklearn.neighbors import KNeighborsClassifier\n",
      "pd.set_option('display.max_columns', 50)\n",
      "\n",
      "train = pd.DataFrame.from_csv('train.csv')\n",
      "\n",
      "###\n",
      "#   Use numerical values for categorical data\n",
      "\n",
      "def makeNumerical(input_df):\n",
      "    \n",
      "    output_df = input_df.copy()\n",
      "    non_numeric_cols = [col for col in output_df.columns \\\n",
      "                        if output_df[col].dtype != 'int64']\n",
      "    for col in non_numeric_cols:\n",
      "        vals = pd.unique(output_df[col])\n",
      "        for i in xrange(len(vals)):\n",
      "            output_df.loc[(output_df[col] == vals[i]), col] = i     \n",
      "\n",
      "    return output_df"
     ],
     "language": "python",
     "metadata": {},
     "outputs": [],
     "prompt_number": 3
    },
    {
     "cell_type": "code",
     "collapsed": false,
     "input": [],
     "language": "python",
     "metadata": {},
     "outputs": []
    }
   ],
   "metadata": {}
  }
 ]
}